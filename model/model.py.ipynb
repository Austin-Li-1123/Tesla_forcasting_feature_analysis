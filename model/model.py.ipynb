{
 "cells": [
  {
   "cell_type": "code",
   "execution_count": 3,
   "metadata": {},
   "outputs": [],
   "source": [
    "import numpy as np\n",
    "import pandas as pd\n",
    "# import statsmodels.api as sm\n",
    "import matplotlib.pyplot as plt \n",
    "%matplotlib inline\n",
    "import random as rand\n",
    "from os import listdir\n",
    "import matplotlib.dates as mdates\n",
    "# from sklearn.preprocessing import PolynomialFeatures"
   ]
  },
  {
   "cell_type": "code",
   "execution_count": 106,
   "metadata": {},
   "outputs": [
    {
     "name": "stdout",
     "output_type": "stream",
     "text": [
      "(693, 9)\n"
     ]
    },
    {
     "data": {
      "text/html": [
       "<div>\n",
       "<style scoped>\n",
       "    .dataframe tbody tr th:only-of-type {\n",
       "        vertical-align: middle;\n",
       "    }\n",
       "\n",
       "    .dataframe tbody tr th {\n",
       "        vertical-align: top;\n",
       "    }\n",
       "\n",
       "    .dataframe thead th {\n",
       "        text-align: right;\n",
       "    }\n",
       "</style>\n",
       "<table border=\"1\" class=\"dataframe\">\n",
       "  <thead>\n",
       "    <tr style=\"text-align: right;\">\n",
       "      <th></th>\n",
       "      <th>Date</th>\n",
       "      <th>F_close</th>\n",
       "      <th>F_open</th>\n",
       "      <th>GM_close</th>\n",
       "      <th>GM_open</th>\n",
       "      <th>TSLA_close</th>\n",
       "      <th>TSLA_open</th>\n",
       "      <th>VWAGY_close</th>\n",
       "      <th>VWAGY_open</th>\n",
       "      <th>Tesla_appreciated</th>\n",
       "    </tr>\n",
       "  </thead>\n",
       "  <tbody>\n",
       "    <tr>\n",
       "      <th>0</th>\n",
       "      <td>2019-01-02</td>\n",
       "      <td>7.90</td>\n",
       "      <td>7.53</td>\n",
       "      <td>33.639999</td>\n",
       "      <td>32.849998</td>\n",
       "      <td>62.023998</td>\n",
       "      <td>61.220001</td>\n",
       "      <td>15.478000</td>\n",
       "      <td>15.315000</td>\n",
       "      <td>True</td>\n",
       "    </tr>\n",
       "    <tr>\n",
       "      <th>1</th>\n",
       "      <td>2019-01-03</td>\n",
       "      <td>7.78</td>\n",
       "      <td>7.97</td>\n",
       "      <td>32.250000</td>\n",
       "      <td>33.340000</td>\n",
       "      <td>60.071999</td>\n",
       "      <td>61.400002</td>\n",
       "      <td>15.450000</td>\n",
       "      <td>15.410000</td>\n",
       "      <td>True</td>\n",
       "    </tr>\n",
       "    <tr>\n",
       "      <th>2</th>\n",
       "      <td>2019-01-04</td>\n",
       "      <td>8.08</td>\n",
       "      <td>7.91</td>\n",
       "      <td>33.330002</td>\n",
       "      <td>32.799999</td>\n",
       "      <td>63.537998</td>\n",
       "      <td>61.200001</td>\n",
       "      <td>16.020000</td>\n",
       "      <td>15.760000</td>\n",
       "      <td>False</td>\n",
       "    </tr>\n",
       "    <tr>\n",
       "      <th>3</th>\n",
       "      <td>2019-01-07</td>\n",
       "      <td>8.29</td>\n",
       "      <td>8.11</td>\n",
       "      <td>34.360001</td>\n",
       "      <td>33.709999</td>\n",
       "      <td>66.991997</td>\n",
       "      <td>64.344002</td>\n",
       "      <td>16.242001</td>\n",
       "      <td>16.264999</td>\n",
       "      <td>False</td>\n",
       "    </tr>\n",
       "    <tr>\n",
       "      <th>4</th>\n",
       "      <td>2019-01-08</td>\n",
       "      <td>8.37</td>\n",
       "      <td>8.42</td>\n",
       "      <td>34.810001</td>\n",
       "      <td>35.000000</td>\n",
       "      <td>67.070000</td>\n",
       "      <td>68.391998</td>\n",
       "      <td>16.444000</td>\n",
       "      <td>16.610001</td>\n",
       "      <td>False</td>\n",
       "    </tr>\n",
       "  </tbody>\n",
       "</table>\n",
       "</div>"
      ],
      "text/plain": [
       "         Date  F_close  F_open   GM_close    GM_open  TSLA_close  TSLA_open  \\\n",
       "0  2019-01-02     7.90    7.53  33.639999  32.849998   62.023998  61.220001   \n",
       "1  2019-01-03     7.78    7.97  32.250000  33.340000   60.071999  61.400002   \n",
       "2  2019-01-04     8.08    7.91  33.330002  32.799999   63.537998  61.200001   \n",
       "3  2019-01-07     8.29    8.11  34.360001  33.709999   66.991997  64.344002   \n",
       "4  2019-01-08     8.37    8.42  34.810001  35.000000   67.070000  68.391998   \n",
       "\n",
       "   VWAGY_close  VWAGY_open  Tesla_appreciated  \n",
       "0    15.478000   15.315000               True  \n",
       "1    15.450000   15.410000               True  \n",
       "2    16.020000   15.760000              False  \n",
       "3    16.242001   16.264999              False  \n",
       "4    16.444000   16.610001              False  "
      ]
     },
     "execution_count": 106,
     "metadata": {},
     "output_type": "execute_result"
    }
   ],
   "source": [
    "data_folder = \"../datasets/\"\n",
    "filenames = listdir(data_folder)\n",
    "# clean filenames\n",
    "filenames = [i for i in filenames if i[-4:] == \".csv\"]\n",
    "filenames.remove(\"twitter_data.csv\")\n",
    "\n",
    "data = pd.DataFrame()\n",
    "data[\"Date\"] = pd.read_csv(data_folder + filenames[0])[\"Date\"]\n",
    "\n",
    "\n",
    "for file in filenames:\n",
    "    data[file[:-9] + \"_close\"] = pd.read_csv(data_folder + file)['Close']\n",
    "    data[file[:-9] + \"_open\"] = pd.read_csv(data_folder + file)['Open']\n",
    "\n",
    "print(data.shape)\n",
    "    \n",
    "is_up = []\n",
    "# for i in range(data.shape[0]):\n",
    "#     if i == 0:\n",
    "#         is_up.append(False)\n",
    "#         continue\n",
    "#     if data[\"TSLA_close\"].iloc[i-1] > data[\"TSLA_close\"].iloc[i-1]:\n",
    "#         is_up.append(False)\n",
    "#     else:\n",
    "#         is_up.append(True)\n",
    "\n",
    "for i in range(data.shape[0]):\n",
    "    if data[\"TSLA_open\"].iloc[i] > data[\"TSLA_close\"].iloc[i-1]:\n",
    "        is_up.append(False)\n",
    "    else:\n",
    "        is_up.append(True)\n",
    "\n",
    "data[\"Tesla_appreciated\"] = is_up\n",
    "    \n",
    "\n",
    "data.head()"
   ]
  },
  {
   "cell_type": "code",
   "execution_count": 6,
   "metadata": {},
   "outputs": [
    {
     "data": {
      "text/plain": [
       "['F', 'GM', 'TSLA', 'VWAGY']"
      ]
     },
     "execution_count": 6,
     "metadata": {},
     "output_type": "execute_result"
    }
   ],
   "source": [
    "# Get a list of stock ticker names\n",
    "ticker_names = [i[:-9] for i in filenames]\n",
    "ticker_names"
   ]
  },
  {
   "cell_type": "code",
   "execution_count": 7,
   "metadata": {},
   "outputs": [
    {
     "data": {
      "image/png": "[encoded data removed]",
      "text/plain": [
       "<Figure size 432x288 with 1 Axes>"
      ]
     },
     "metadata": {
      "needs_background": "light"
     },
     "output_type": "display_data"
    }
   ],
   "source": [
    "# visualize tesla open/close\n",
    "fig, axes = plt.subplots()\n",
    "axes.plot(data[\"Date\"], data[\"TSLA_open\"])\n",
    "axes.plot(data[\"Date\"], data[\"TSLA_close\"])\n",
    "fmt_half_year = mdates.MonthLocator(interval=6)\n",
    "axes.xaxis.set_major_locator(fmt_half_year)\n",
    "\n",
    "plt.show()"
   ]
  },
  {
   "cell_type": "code",
   "execution_count": 8,
   "metadata": {},
   "outputs": [
    {
     "data": {
      "image/png": "[encoded data removed]",
      "text/plain": [
       "<Figure size 432x288 with 1 Axes>"
      ]
     },
     "metadata": {
      "needs_background": "light"
     },
     "output_type": "display_data"
    }
   ],
   "source": [
    "# visualize trend on all close prices\n",
    "fig, axes = plt.subplots()\n",
    "\n",
    "# axes.plot(data[\"Date\"], data[\"TSLA_close\"])\n",
    "axes.plot(data[\"Date\"], data[\"GM_close\"], label=\"GM\")\n",
    "axes.plot(data[\"Date\"], data[\"F_close\"], label=\"F\")\n",
    "axes.plot(data[\"Date\"], data[\"VWAGY_close\"], label=\"VWAGY\")\n",
    "fmt_half_year = mdates.MonthLocator(interval=6)\n",
    "axes.xaxis.set_major_locator(fmt_half_year)\n",
    "axes.legend()\n",
    "\n",
    "plt.show()"
   ]
  },
  {
   "cell_type": "code",
   "execution_count": 9,
   "metadata": {},
   "outputs": [
    {
     "data": {
      "text/html": [
       "<div>\n",
       "<style scoped>\n",
       "    .dataframe tbody tr th:only-of-type {\n",
       "        vertical-align: middle;\n",
       "    }\n",
       "\n",
       "    .dataframe tbody tr th {\n",
       "        vertical-align: top;\n",
       "    }\n",
       "\n",
       "    .dataframe thead th {\n",
       "        text-align: right;\n",
       "    }\n",
       "</style>\n",
       "<table border=\"1\" class=\"dataframe\">\n",
       "  <thead>\n",
       "    <tr style=\"text-align: right;\">\n",
       "      <th></th>\n",
       "      <th>Date</th>\n",
       "      <th>F_close</th>\n",
       "      <th>F_open</th>\n",
       "      <th>GM_close</th>\n",
       "      <th>GM_open</th>\n",
       "      <th>TSLA_close</th>\n",
       "      <th>TSLA_open</th>\n",
       "      <th>VWAGY_close</th>\n",
       "      <th>VWAGY_open</th>\n",
       "      <th>TSLA_tmr_close</th>\n",
       "      <th>F_difference</th>\n",
       "      <th>GM_difference</th>\n",
       "      <th>TSLA_difference</th>\n",
       "      <th>VWAGY_difference</th>\n",
       "    </tr>\n",
       "  </thead>\n",
       "  <tbody>\n",
       "    <tr>\n",
       "      <th>0</th>\n",
       "      <td>2019-01-02</td>\n",
       "      <td>7.90</td>\n",
       "      <td>7.53</td>\n",
       "      <td>33.639999</td>\n",
       "      <td>32.849998</td>\n",
       "      <td>62.023998</td>\n",
       "      <td>61.220001</td>\n",
       "      <td>15.478000</td>\n",
       "      <td>15.315000</td>\n",
       "      <td>60.071999</td>\n",
       "      <td>0.37</td>\n",
       "      <td>0.790001</td>\n",
       "      <td>0.803997</td>\n",
       "      <td>0.163000</td>\n",
       "    </tr>\n",
       "    <tr>\n",
       "      <th>1</th>\n",
       "      <td>2019-01-03</td>\n",
       "      <td>7.78</td>\n",
       "      <td>7.97</td>\n",
       "      <td>32.250000</td>\n",
       "      <td>33.340000</td>\n",
       "      <td>60.071999</td>\n",
       "      <td>61.400002</td>\n",
       "      <td>15.450000</td>\n",
       "      <td>15.410000</td>\n",
       "      <td>63.537998</td>\n",
       "      <td>-0.19</td>\n",
       "      <td>-1.090000</td>\n",
       "      <td>-1.328003</td>\n",
       "      <td>0.040000</td>\n",
       "    </tr>\n",
       "    <tr>\n",
       "      <th>2</th>\n",
       "      <td>2019-01-04</td>\n",
       "      <td>8.08</td>\n",
       "      <td>7.91</td>\n",
       "      <td>33.330002</td>\n",
       "      <td>32.799999</td>\n",
       "      <td>63.537998</td>\n",
       "      <td>61.200001</td>\n",
       "      <td>16.020000</td>\n",
       "      <td>15.760000</td>\n",
       "      <td>66.991997</td>\n",
       "      <td>0.17</td>\n",
       "      <td>0.530003</td>\n",
       "      <td>2.337997</td>\n",
       "      <td>0.260000</td>\n",
       "    </tr>\n",
       "    <tr>\n",
       "      <th>3</th>\n",
       "      <td>2019-01-07</td>\n",
       "      <td>8.29</td>\n",
       "      <td>8.11</td>\n",
       "      <td>34.360001</td>\n",
       "      <td>33.709999</td>\n",
       "      <td>66.991997</td>\n",
       "      <td>64.344002</td>\n",
       "      <td>16.242001</td>\n",
       "      <td>16.264999</td>\n",
       "      <td>67.070000</td>\n",
       "      <td>0.18</td>\n",
       "      <td>0.650002</td>\n",
       "      <td>2.647995</td>\n",
       "      <td>-0.022999</td>\n",
       "    </tr>\n",
       "    <tr>\n",
       "      <th>4</th>\n",
       "      <td>2019-01-08</td>\n",
       "      <td>8.37</td>\n",
       "      <td>8.42</td>\n",
       "      <td>34.810001</td>\n",
       "      <td>35.000000</td>\n",
       "      <td>67.070000</td>\n",
       "      <td>68.391998</td>\n",
       "      <td>16.444000</td>\n",
       "      <td>16.610001</td>\n",
       "      <td>67.706001</td>\n",
       "      <td>-0.05</td>\n",
       "      <td>-0.189999</td>\n",
       "      <td>-1.321999</td>\n",
       "      <td>-0.166000</td>\n",
       "    </tr>\n",
       "  </tbody>\n",
       "</table>\n",
       "</div>"
      ],
      "text/plain": [
       "         Date  F_close  F_open   GM_close    GM_open  TSLA_close  TSLA_open  \\\n",
       "0  2019-01-02     7.90    7.53  33.639999  32.849998   62.023998  61.220001   \n",
       "1  2019-01-03     7.78    7.97  32.250000  33.340000   60.071999  61.400002   \n",
       "2  2019-01-04     8.08    7.91  33.330002  32.799999   63.537998  61.200001   \n",
       "3  2019-01-07     8.29    8.11  34.360001  33.709999   66.991997  64.344002   \n",
       "4  2019-01-08     8.37    8.42  34.810001  35.000000   67.070000  68.391998   \n",
       "\n",
       "   VWAGY_close  VWAGY_open  TSLA_tmr_close  F_difference  GM_difference  \\\n",
       "0    15.478000   15.315000       60.071999          0.37       0.790001   \n",
       "1    15.450000   15.410000       63.537998         -0.19      -1.090000   \n",
       "2    16.020000   15.760000       66.991997          0.17       0.530003   \n",
       "3    16.242001   16.264999       67.070000          0.18       0.650002   \n",
       "4    16.444000   16.610001       67.706001         -0.05      -0.189999   \n",
       "\n",
       "   TSLA_difference  VWAGY_difference  \n",
       "0         0.803997          0.163000  \n",
       "1        -1.328003          0.040000  \n",
       "2         2.337997          0.260000  \n",
       "3         2.647995         -0.022999  \n",
       "4        -1.321999         -0.166000  "
      ]
     },
     "execution_count": 9,
     "metadata": {},
     "output_type": "execute_result"
    }
   ],
   "source": [
    "# format data into X and Y\n",
    "# turn time series into indipendent data entries\n",
    "# vertically shift tesla's closing price\n",
    "data[\"TSLA_tmr_close\"] = data[\"TSLA_close\"].shift(-1, fill_value=-1)\n",
    "data = data.drop(data.shape[0]-1)\n",
    "\n",
    "# add \"price difference columns\"\n",
    "for ticker in ticker_names:\n",
    "    data[ticker + \"_difference\"] = data[ticker+\"_close\"] - data[ticker+\"_open\"]\n",
    "    \n",
    "data.head()"
   ]
  },
  {
   "cell_type": "markdown",
   "metadata": {},
   "source": [
    "# Including Tesla's opening/closing price of the current day"
   ]
  },
  {
   "cell_type": "code",
   "execution_count": 74,
   "metadata": {},
   "outputs": [],
   "source": [
    "# linear model function\n",
    "# This function just computes the mean squared error\n",
    "def MSE(y, pred):\n",
    "    # YOUR CODE HERE \n",
    "    err = y - pred\n",
    "    squared_err = err ** 2\n",
    "    \n",
    "    return np.mean(squared_err)\n",
    "    \n",
    "# This function plots the main diagonal;for a \"predicted vs true\" plot with perfect predictions, all data lies on this line\n",
    "def plotDiagonal(xmin, xmax):\n",
    "    xsamples = np.arange(xmin,xmax,step=0.01)\n",
    "    plt.plot(xsamples,xsamples,c='black')\n",
    "\n",
    "# This helper function plots x vs y and labels the axes\n",
    "def plotdata(x=None,y=None,xname=None,yname=None,margin=0.05,plotDiag=True,zeromin=False):\n",
    "    plt.scatter(x,y,label='data')\n",
    "    plt.xlabel(xname)\n",
    "    plt.ylabel(yname)\n",
    "    range_x = max(x) - min(x)\n",
    "    range_y = max(y) - min(y)\n",
    "    if plotDiag:\n",
    "        plotDiagonal(min(x)-margin*range_x,max(x)+margin*range_x)\n",
    "    if zeromin:\n",
    "        plt.xlim(0.0,max(x)+margin*range_x)\n",
    "        plt.ylim(0.0,max(y)+margin*range_y)\n",
    "    else:\n",
    "        plt.xlim(min(x)-margin*range_x,max(x)+margin*range_x)\n",
    "        plt.ylim(min(y)-margin*range_y,max(y)+margin*range_y)\n",
    "    plt.show()\n",
    "\n",
    "# This function plots the predicted labels vs the actual labels (We only plot the first 1000 points to avoid slow plots)\n",
    "def plot_pred_true(test_pred=None, test_y=None, max_points = 1000):\n",
    "    plotdata(test_pred[1:max_points], test_y[1:max_points],'Predicted', 'True', zeromin=True)\n",
    "\n",
    "# This function runs OLS and bypasses any SVD (Singular Value Decomposition) convergence errors by refitting the model\n",
    "def run_OLS(train_y, test_y, train_vals, test_vals):\n",
    "    ols_model = sm.regression.linear_model.OLS(train_y, train_vals)\n",
    "    while True: # Bypasses SVD convergence assertion error\n",
    "        try:\n",
    "            results = ols_model.fit()\n",
    "            break\n",
    "        except:\n",
    "            None\n",
    "            \n",
    "    w = np.array(results.params).reshape([len(results.params),1])\n",
    "\n",
    "    train_pred = np.matmul(train_vals,w)\n",
    "    test_pred = np.matmul(test_vals,w)\n",
    "\n",
    "    train_MSE = MSE(train_y, train_pred.flatten())\n",
    "    test_MSE = MSE(test_y, test_pred.flatten())\n",
    "    \n",
    "    return train_MSE, test_MSE, test_pred"
   ]
  },
  {
   "cell_type": "code",
   "execution_count": 91,
   "metadata": {},
   "outputs": [
    {
     "name": "stdout",
     "output_type": "stream",
     "text": [
      "Index(['F_close', 'F_open', 'GM_close', 'GM_open', 'TSLA_close', 'TSLA_open',\n",
      "       'VWAGY_close', 'VWAGY_open', 'F_difference', 'GM_difference',\n",
      "       'TSLA_difference', 'VWAGY_difference'],\n",
      "      dtype='object')\n",
      "(552, 12) (138, 12) (552,) (138,)\n"
     ]
    }
   ],
   "source": [
    "# columns for X\n",
    "input_columns = [\n",
    "    \"F_close\",\n",
    "    \"F_open\",\n",
    "    \"GM_close\",\n",
    "    \"GM_open\",\n",
    "    \"VWAGY_close\",\n",
    "    \"VWAGY_open\",\n",
    "    \"F_difference\",\n",
    "    \"GM_difference\",\n",
    "    \"VWAGY_difference\",\n",
    "    \"TSLA_close\",\n",
    "    \"TSLA_open\",\n",
    "    \"TSLA_difference\"\n",
    "]\n",
    "# Test and train split\n",
    "train_ratio = 0.8\n",
    "# shuffle and split data\n",
    "data_shuffled = data.sample(frac = 1)\n",
    "n = len(data)\n",
    "t = int(train_ratio * n)\n",
    "\n",
    "target = data_shuffled['TSLA_tmr_close']\n",
    "X_columns = data_shuffled.loc[:, data_shuffled.columns.isin(input_columns)]\n",
    "print(X_columns.columns)\n",
    "\n",
    "train_x = X_columns.iloc[:t]\n",
    "test_x = X_columns.iloc[t:]\n",
    "\n",
    "train_y = target[:t]\n",
    "test_y = target[t:]\n",
    "\n",
    "print(train_x.shape, test_x.shape, train_y.shape, test_y.shape)"
   ]
  },
  {
   "cell_type": "code",
   "execution_count": 94,
   "metadata": {},
   "outputs": [
    {
     "name": "stdout",
     "output_type": "stream",
     "text": [
      "Train MSE\t 239.358837787285\n",
      "Test MSE\t 219.05811509678844\n"
     ]
    },
    {
     "data": {
      "image/png": "[encoded data removed]",
      "text/plain": [
       "<Figure size 432x288 with 1 Axes>"
      ]
     },
     "metadata": {
      "needs_background": "light"
     },
     "output_type": "display_data"
    }
   ],
   "source": [
    "# train and print result\n",
    "train_val = np.array(train_x)\n",
    "test_val = np.array(test_x)\n",
    "\n",
    "train_MSE, test_MSE, test_pred = run_OLS(np.array(train_y), np.array(test_y), train_val, test_val)\n",
    "\n",
    "print(\"Train MSE\\t\", str(train_MSE))\n",
    "print(\"Test MSE\\t\", str(test_MSE))\n",
    "\n",
    "plot_pred_true(test_pred.flatten(), test_y) #.flatten() will make sure the dimensions match"
   ]
  },
  {
   "cell_type": "markdown",
   "metadata": {},
   "source": [
    "# Without information on the stock itself, how good will the prediction be?\n"
   ]
  },
  {
   "cell_type": "code",
   "execution_count": 95,
   "metadata": {},
   "outputs": [
    {
     "name": "stdout",
     "output_type": "stream",
     "text": [
      "Index(['F_close', 'F_open', 'GM_close', 'GM_open', 'VWAGY_close', 'VWAGY_open',\n",
      "       'F_difference', 'GM_difference', 'VWAGY_difference'],\n",
      "      dtype='object')\n",
      "(552, 9) (138, 9) (552,) (138,)\n"
     ]
    }
   ],
   "source": [
    "# columns for X\n",
    "input_columns = [\n",
    "    \"F_close\",\n",
    "    \"F_open\",\n",
    "    \"GM_close\",\n",
    "    \"GM_open\",\n",
    "    \"VWAGY_close\",\n",
    "    \"VWAGY_open\",\n",
    "    \"F_difference\",\n",
    "    \"GM_difference\",\n",
    "    \"VWAGY_difference\",\n",
    "]\n",
    "# Test and train split\n",
    "train_ratio = 0.8\n",
    "# shuffle and split data\n",
    "data_shuffled = data.sample(frac = 1)\n",
    "n = len(data)\n",
    "t = int(train_ratio * n)\n",
    "\n",
    "target = data_shuffled['TSLA_tmr_close']\n",
    "X_columns = data_shuffled.loc[:, data_shuffled.columns.isin(input_columns)]\n",
    "print(X_columns.columns)\n",
    "\n",
    "train_x = X_columns.iloc[:t]\n",
    "test_x = X_columns.iloc[t:]\n",
    "\n",
    "train_y = target[:t]\n",
    "test_y = target[t:]\n",
    "\n",
    "print(train_x.shape, test_x.shape, train_y.shape, test_y.shape)"
   ]
  },
  {
   "cell_type": "code",
   "execution_count": 96,
   "metadata": {},
   "outputs": [
    {
     "name": "stdout",
     "output_type": "stream",
     "text": [
      "Train MSE\t 31298.421189283425\n",
      "Test MSE\t 35181.35330532029\n"
     ]
    },
    {
     "data": {
      "image/png": "[encoded data removed]",
      "text/plain": [
       "<Figure size 432x288 with 1 Axes>"
      ]
     },
     "metadata": {
      "needs_background": "light"
     },
     "output_type": "display_data"
    }
   ],
   "source": [
    "# train and print result\n",
    "train_val = np.array(train_x)\n",
    "test_val = np.array(test_x)\n",
    "\n",
    "train_MSE, test_MSE, test_pred = run_OLS(np.array(train_y), np.array(test_y), train_val, test_val)\n",
    "\n",
    "print(\"Train MSE\\t\", str(train_MSE))\n",
    "print(\"Test MSE\\t\", str(test_MSE))\n",
    "\n",
    "plot_pred_true(test_pred.flatten(), test_y) #.flatten() will make sure the dimensions match"
   ]
  },
  {
   "cell_type": "markdown",
   "metadata": {},
   "source": [
    "# Can we do better with some more external information?\n",
    "## Ideas:\n",
    "#### 1) Add polynomial transformation of the other stock prices\n",
    "#### 2) Add new data: Musk's twitter data\n",
    "#### 3) Add new data: Tesla related news\n",
    "#### 4) Add new data: Ranking on Reddit\n",
    "#### 5) Use a different learning model"
   ]
  },
  {
   "cell_type": "markdown",
   "metadata": {},
   "source": [
    "## 1) Add polynomials transformation of the other stock prices"
   ]
  },
  {
   "cell_type": "markdown",
   "metadata": {},
   "source": [
    "### 1.1) Test the performance of the poly transformation of degree 2"
   ]
  },
  {
   "cell_type": "code",
   "execution_count": 105,
   "metadata": {},
   "outputs": [
    {
     "name": "stdout",
     "output_type": "stream",
     "text": [
      "(552, 9)\n",
      "(552, 55)\n"
     ]
    }
   ],
   "source": [
    "# add polynomials to the train and test X arraies\n",
    "print(train_x.shape)\n",
    "poly = PolynomialFeatures(2)\n",
    "ploy_train_x = poly.fit_transform(train_x)\n",
    "ploy_test_x = poly.fit_transform(test_x)\n",
    "print(ploy_x.shape)"
   ]
  },
  {
   "cell_type": "code",
   "execution_count": 106,
   "metadata": {},
   "outputs": [
    {
     "name": "stdout",
     "output_type": "stream",
     "text": [
      "Train MSE\t 12360.499345311233\n",
      "Test MSE\t 15506.776826634517\n"
     ]
    },
    {
     "data": {
      "image/png": "[encoded data removed]",
      "text/plain": [
       "<Figure size 432x288 with 1 Axes>"
      ]
     },
     "metadata": {
      "needs_background": "light"
     },
     "output_type": "display_data"
    }
   ],
   "source": [
    "# train and print result\n",
    "train_val = np.array(ploy_train_x)\n",
    "test_val = np.array(ploy_test_x)\n",
    "\n",
    "train_MSE, test_MSE, test_pred = run_OLS(np.array(train_y), np.array(test_y), train_val, test_val)\n",
    "\n",
    "print(\"Train MSE\\t\", str(train_MSE))\n",
    "print(\"Test MSE\\t\", str(test_MSE))\n",
    "\n",
    "plot_pred_true(test_pred.flatten(), test_y) "
   ]
  },
  {
   "cell_type": "markdown",
   "metadata": {},
   "source": [
    "### 1.2) Compare the performance of the poly transformations of degree 1-3\n"
   ]
  },
  {
   "cell_type": "code",
   "execution_count": 121,
   "metadata": {},
   "outputs": [],
   "source": [
    "test_range = range(1,4)\n",
    "train_errors = []\n",
    "test_errors = []\n",
    "\n",
    "for i in test_range:\n",
    "    poly = PolynomialFeatures(i)\n",
    "    ploy_train_x = poly.fit_transform(train_x)\n",
    "    ploy_test_x = poly.fit_transform(test_x)\n",
    "    \n",
    "    train_val = np.array(ploy_train_x)\n",
    "    test_val = np.array(ploy_test_x)\n",
    "\n",
    "    train_MSE, test_MSE, test_pred = run_OLS(np.array(train_y), np.array(test_y), train_val, test_val)\n",
    "    train_errors.append(train_MSE)\n",
    "    test_errors.append(test_MSE)\n",
    "#     plot_pred_true(test_pred.flatten(), test_y) "
   ]
  },
  {
   "cell_type": "code",
   "execution_count": 123,
   "metadata": {},
   "outputs": [
    {
     "data": {
      "image/png": "[encoded data removed]",
      "text/plain": [
       "<Figure size 432x288 with 1 Axes>"
      ]
     },
     "metadata": {
      "needs_background": "light"
     },
     "output_type": "display_data"
    }
   ],
   "source": [
    "# plot a bar chart to compare the loss values\n",
    "width = 0.3 \n",
    "x = np.array(list(test_range))\n",
    "plt.bar(x, train_errors, width, label=\"train\")\n",
    "plt.bar(x+width, test_errors, width, label=\"test\")\n",
    "plt.xlabel(\"poly order\")\n",
    "plt.ylabel(\"loss value\")\n",
    "plt.legend()\n",
    "plt.show()"
   ]
  },
  {
   "cell_type": "code",
   "execution_count": null,
   "metadata": {},
   "outputs": [],
   "source": [
    "# plot the prediction graphs\n"
   ]
  },
  {
   "cell_type": "markdown",
   "metadata": {},
   "source": [
    "#### we can see that ploy(2) produces the best result and the model starts to overfit at poly(3)"
   ]
  },
  {
   "cell_type": "markdown",
   "metadata": {},
   "source": [
    "## 2) Add new data: Musk's twitter data"
   ]
  },
  {
   "cell_type": "code",
   "execution_count": 81,
   "metadata": {},
   "outputs": [
    {
     "name": "stdout",
     "output_type": "stream",
     "text": [
      "(3247, 3)\n"
     ]
    },
    {
     "data": {
      "text/plain": [
       "<bound method NDFrame.head of       Unnamed: 0            Date  \\\n",
       "0              0  [2021, 10, 29]   \n",
       "1              1  [2021, 10, 29]   \n",
       "2              2  [2021, 10, 29]   \n",
       "3              3  [2021, 10, 29]   \n",
       "4              4  [2021, 10, 29]   \n",
       "...          ...             ...   \n",
       "3242        3242  [2020, 10, 13]   \n",
       "3243        3243  [2020, 10, 13]   \n",
       "3244        3244  [2020, 10, 13]   \n",
       "3245        3245  [2020, 10, 13]   \n",
       "3246        3246  [2020, 10, 13]   \n",
       "\n",
       "                                                Content  \n",
       "0     @ray4tesla My new album:\\n\\nLove Hertz\\nBaby d...  \n",
       "1                    @KingManninen Nope, T is def first  \n",
       "2                       @ray4tesla “Tesla Hertz Shorts”  \n",
       "3     RT @SpaceX: Falcon 9 and Dragon are looking go...  \n",
       "4                                   Universally admired  \n",
       "...                                                 ...  \n",
       "3242  @PlayOverwatch @twomad Please buff Torb’s turret!  \n",
       "3243                                   @twomad Um … yes  \n",
       "3244  @teslaownersSV I have Goosebumps 2 merch. Not ...  \n",
       "3245                                @teslaownersSV HG2G  \n",
       "3246                                @teslaownersSV LotR  \n",
       "\n",
       "[3247 rows x 3 columns]>"
      ]
     },
     "execution_count": 81,
     "metadata": {},
     "output_type": "execute_result"
    }
   ],
   "source": [
    "import re\n",
    "df = pd.read_csv(\"../datasets/twitter_data.csv\")\n",
    "print(df.shape)\n",
    "df.head"
   ]
  },
  {
   "cell_type": "code",
   "execution_count": 82,
   "metadata": {
    "scrolled": true
   },
   "outputs": [
    {
     "name": "stderr",
     "output_type": "stream",
     "text": [
      "C:\\Python\\Python37\\lib\\site-packages\\pandas\\core\\indexing.py:1637: SettingWithCopyWarning: \n",
      "A value is trying to be set on a copy of a slice from a DataFrame\n",
      "\n",
      "See the caveats in the documentation: https://pandas.pydata.org/pandas-docs/stable/user_guide/indexing.html#returning-a-view-versus-a-copy\n",
      "  self._setitem_single_block(indexer, value, name)\n"
     ]
    }
   ],
   "source": [
    "# clean the tweets with re, remove formatting, @, image url, etc.\n",
    "n = df.shape[0]\n",
    "lines = []\n",
    "dates = []\n",
    "\n",
    "for i in range(n):\n",
    "    line = df[\"Content\"].iloc[i]\n",
    "\n",
    "    # remove @ portions\n",
    "    line = ' '.join(re.sub(\"(@[A-Za-z0-9]+)|([^0-9A-Za-z \\t])|(\\w+:\\/\\/\\S+)\", \" \", line).split())\n",
    "    df[\"Content\"].iloc[i] = line"
   ]
  },
  {
   "cell_type": "code",
   "execution_count": 83,
   "metadata": {},
   "outputs": [
    {
     "name": "stdout",
     "output_type": "stream",
     "text": [
      "365 365\n"
     ]
    }
   ],
   "source": [
    "# combine multiple tweets from the same date\n",
    "dates = []\n",
    "tweets = []\n",
    "\n",
    "prev_date = df[\"Date\"].iloc[0]\n",
    "string_holder = \"\"\n",
    "\n",
    "for i in range(n):\n",
    "    date = df[\"Date\"].iloc[i]\n",
    "    line = df[\"Content\"].iloc[i]\n",
    "    \n",
    "    if date == prev_date:\n",
    "        string_holder += \" \" + line\n",
    "    \n",
    "    else:\n",
    "        dates.append(date)\n",
    "        tweets.append(string_holder)\n",
    "        \n",
    "        string_holder = \"\"\n",
    "        prev_date = date\n",
    "        \n",
    "print(len(dates), len(tweets))\n",
    "dates = dates[27:]\n",
    "tweets = tweets[27:]"
   ]
  },
  {
   "cell_type": "code",
   "execution_count": 84,
   "metadata": {},
   "outputs": [],
   "source": [
    "# sentiment analysis\n",
    "from textblob import TextBlob\n",
    "\n",
    "n = len(dates)\n",
    "sentiments = []\n",
    "\n",
    "for i in range(n):\n",
    "    tweet = tweets[i]\n",
    "    analysis = TextBlob(tweet)\n",
    "    # set sentiment\n",
    "    sentiments.append(analysis.sentiment.polarity)"
   ]
  },
  {
   "cell_type": "code",
   "execution_count": 85,
   "metadata": {
    "scrolled": true
   },
   "outputs": [
    {
     "data": {
      "image/png": "[encoded data removed]",
      "text/plain": [
       "<Figure size 432x288 with 1 Axes>"
      ]
     },
     "metadata": {
      "needs_background": "light"
     },
     "output_type": "display_data"
    }
   ],
   "source": [
    "# plot sentiments\n",
    "plt.scatter(dates, sentiments)\n",
    "plt.xticks()\n",
    "plt.show()\n"
   ]
  },
  {
   "cell_type": "code",
   "execution_count": 86,
   "metadata": {},
   "outputs": [],
   "source": [
    "# date_range = [461, 150]\n",
    "# print(data[\"Date\"][date_range[0]:date_range[0]+4])"
   ]
  },
  {
   "cell_type": "code",
   "execution_count": 107,
   "metadata": {},
   "outputs": [
    {
     "name": "stdout",
     "output_type": "stream",
     "text": [
      "(231, 10)\n",
      "2021-09-29 2020-10-29\n",
      "-------------------------------------------\n",
      "231 231 231\n"
     ]
    }
   ],
   "source": [
    "# plot with the information of stock going up or down\n",
    "price_diff = data[\"TSLA_close\"] - data[\"TSLA_open\"]\n",
    "is_bull = []\n",
    "sentiments_list = []\n",
    "date_list = []\n",
    "\n",
    "df_truncated = data[461:-1]\n",
    "print(df_truncated.shape)\n",
    "print(df_truncated[\"Date\"].iloc[-1], df_truncated[\"Date\"].iloc[0])\n",
    "j = 0\n",
    "\n",
    "print(\"-------------------------------------------\")\n",
    "for i in range(df_truncated.shape[0]-1, -1, -1):\n",
    "#     print(i)\n",
    "    date = df_truncated[\"Date\"].iloc[i]\n",
    "    \n",
    "    date_parts = date.split(\"-\")\n",
    "    date_parts = str([int(i) for i in date_parts])\n",
    "#     print(f\"stock: {date_parts}\")\n",
    "    \n",
    "    is_bull.append(1 if data[\"Tesla_appreciated\"].iloc[i] else 0)\n",
    "    \n",
    "    found = False\n",
    "    while j < len(dates) and dates[j] >= date_parts:\n",
    "        if dates[j] == date_parts:\n",
    "            found = True\n",
    "            break\n",
    "        j += 1\n",
    "#         print(dates[j])\n",
    "#     print(found)\n",
    "    if j == len(dates):\n",
    "        break\n",
    "    if found:\n",
    "        sentiments_list.append(sentiments[j])\n",
    "    else:\n",
    "        sentiments_list.append(0)\n",
    "    date_list.append(date)\n",
    "\n",
    "print(len(is_bull), len(sentiments_list), len(date_list))"
   ]
  },
  {
   "cell_type": "code",
   "execution_count": 109,
   "metadata": {},
   "outputs": [
    {
     "data": {
      "image/png": "[encoded data removed]",
      "text/plain": [
       "<Figure size 432x288 with 1 Axes>"
      ]
     },
     "metadata": {
      "needs_background": "light"
     },
     "output_type": "display_data"
    }
   ],
   "source": [
    "colormap = np.array(['r', 'g'])\n",
    "\n",
    "plt.scatter(date_list, sentiments_list, color=colormap[is_bull])\n",
    "plt.xticks()\n",
    "plt.show()"
   ]
  },
  {
   "cell_type": "code",
   "execution_count": 111,
   "metadata": {},
   "outputs": [
    {
     "data": {
      "image/png": "[encoded data removed]",
      "text/plain": [
       "<Figure size 432x288 with 1 Axes>"
      ]
     },
     "metadata": {
      "needs_background": "light"
     },
     "output_type": "display_data"
    }
   ],
   "source": [
    "# what if the effect has a one-day delay\n",
    "delayed_bull = [0] + [is_bull[i] for i in range(len(is_bull)) if i != len(is_bull)-1]\n",
    "\n",
    "plt.scatter(date_list, sentiments_list, color=colormap[delayed_bull])\n",
    "plt.xticks()\n",
    "plt.show()"
   ]
  },
  {
   "cell_type": "code",
   "execution_count": null,
   "metadata": {},
   "outputs": [],
   "source": [
    "# train a model "
   ]
  }
 ],
 "metadata": {
  "kernelspec": {
   "display_name": "Python 3",
   "language": "python",
   "name": "python3"
  },
  "language_info": {
   "codemirror_mode": {
    "name": "ipython",
    "version": 3
   },
   "file_extension": ".py",
   "mimetype": "text/x-python",
   "name": "python",
   "nbconvert_exporter": "python",
   "pygments_lexer": "ipython3",
   "version": "3.7.7"
  }
 },
 "nbformat": 4,
 "nbformat_minor": 5
}
