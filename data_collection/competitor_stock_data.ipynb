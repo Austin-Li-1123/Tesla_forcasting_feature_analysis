{
 "cells": [
  {
   "cell_type": "code",
   "execution_count": 1,
   "id": "introductory-belgium",
   "metadata": {},
   "outputs": [],
   "source": [
    "import pandas as pd\n",
    "import pandas_datareader as pdr\n",
    "import datetime as dt"
   ]
  },
  {
   "cell_type": "code",
   "execution_count": null,
   "id": "located-prediction",
   "metadata": {},
   "outputs": [],
   "source": [
    "competitor_list = [\"F\", \"GM\", \"VWAGY\"]\n",
    "start = dt.datetime(2019, 1, 1)\n",
    "end = dt.datetime(2021, , 31)"
   ]
  },
  {
   "cell_type": "code",
   "execution_count": null,
   "id": "unable-index",
   "metadata": {},
   "outputs": [],
   "source": [
    "for name in competitor_list:\n",
    "    filename = \"../datasets/\" + name +\"_data.csv\"\n",
    "    # read data from Yahoo Finance\n",
    "    data = pdr.get_data_yahoo(name, start, end)"
   ]
  },
  {
   "cell_type": "code",
   "execution_count": null,
   "id": "cognitive-prophet",
   "metadata": {},
   "outputs": [],
   "source": []
  },
  {
   "cell_type": "code",
   "execution_count": null,
   "id": "impressive-bloom",
   "metadata": {},
   "outputs": [],
   "source": []
  }
 ],
 "metadata": {
  "kernelspec": {
   "display_name": "Python 3",
   "language": "python",
   "name": "python3"
  },
  "language_info": {
   "codemirror_mode": {
    "name": "ipython",
    "version": 3
   },
   "file_extension": ".py",
   "mimetype": "text/x-python",
   "name": "python",
   "nbconvert_exporter": "python",
   "pygments_lexer": "ipython3",
   "version": "3.9.2"
  }
 },
 "nbformat": 4,
 "nbformat_minor": 5
}
