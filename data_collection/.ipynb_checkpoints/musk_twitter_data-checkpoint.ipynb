{
 "cells": [
  {
   "cell_type": "code",
   "execution_count": 49,
   "id": "healthy-cartridge",
   "metadata": {},
   "outputs": [],
   "source": [
    "import tweepy, datetime\n",
    "import pandas as pd\n",
    "import time"
   ]
  },
  {
   "cell_type": "code",
   "execution_count": 50,
   "id": "executive-declaration",
   "metadata": {},
   "outputs": [],
   "source": [
    "access_token=\"1451347013069594630-eYACOGwhpGyf2Pm5bIExC3bIikgaMW\"\n",
    "access_token_secret=\"b9wn7gH4Nq958hBFWy29zlvFrqkqwDAbNz8OElM1msAHl\"\n",
    "consumer_key=\"TmoJHDUEj1qtmzSeJSQeJEAsu\"\n",
    "consumer_secret=\"iQcdG9SQdVa3LwVO1qy5mHpgnHSmTwMv6mzB27zBz0Qsc0WBkE\"\n",
    "\n",
    "auth = tweepy.OAuthHandler(consumer_key, consumer_secret)\n",
    "auth.set_access_token(access_token, access_token_secret)\n",
    "api = tweepy.API(auth)"
   ]
  },
  {
   "cell_type": "code",
   "execution_count": 53,
   "id": "fundamental-reasoning",
   "metadata": {},
   "outputs": [
    {
     "name": "stdout",
     "output_type": "stream",
     "text": [
      "(200, 2)\n"
     ]
    },
    {
     "data": {
      "text/html": [
       "<div>\n",
       "<style scoped>\n",
       "    .dataframe tbody tr th:only-of-type {\n",
       "        vertical-align: middle;\n",
       "    }\n",
       "\n",
       "    .dataframe tbody tr th {\n",
       "        vertical-align: top;\n",
       "    }\n",
       "\n",
       "    .dataframe thead th {\n",
       "        text-align: right;\n",
       "    }\n",
       "</style>\n",
       "<table border=\"1\" class=\"dataframe\">\n",
       "  <thead>\n",
       "    <tr style=\"text-align: right;\">\n",
       "      <th></th>\n",
       "      <th>Date</th>\n",
       "      <th>Content</th>\n",
       "    </tr>\n",
       "  </thead>\n",
       "  <tbody>\n",
       "    <tr>\n",
       "      <th>0</th>\n",
       "      <td>[2021, 10, 28]</td>\n",
       "      <td>@teslaownersSV @Teslarati @ResidentSponge Tesl...</td>\n",
       "    </tr>\n",
       "    <tr>\n",
       "      <th>1</th>\n",
       "      <td>[2021, 10, 28]</td>\n",
       "      <td>@Rainmaker1973 Cover story for Godzilla obv</td>\n",
       "    </tr>\n",
       "    <tr>\n",
       "      <th>2</th>\n",
       "      <td>[2021, 10, 28]</td>\n",
       "      <td>@TheBabylonBee “Tax experts said they're not s...</td>\n",
       "    </tr>\n",
       "    <tr>\n",
       "      <th>3</th>\n",
       "      <td>[2021, 10, 28]</td>\n",
       "      <td>@atNickVega @CNBCMakeIt Thanks for your suppor...</td>\n",
       "    </tr>\n",
       "    <tr>\n",
       "      <th>4</th>\n",
       "      <td>[2021, 10, 28]</td>\n",
       "      <td>@ecommerceshares The cemetery of automotive st...</td>\n",
       "    </tr>\n",
       "  </tbody>\n",
       "</table>\n",
       "</div>"
      ],
      "text/plain": [
       "             Date                                            Content\n",
       "0  [2021, 10, 28]  @teslaownersSV @Teslarati @ResidentSponge Tesl...\n",
       "1  [2021, 10, 28]        @Rainmaker1973 Cover story for Godzilla obv\n",
       "2  [2021, 10, 28]  @TheBabylonBee “Tax experts said they're not s...\n",
       "3  [2021, 10, 28]  @atNickVega @CNBCMakeIt Thanks for your suppor...\n",
       "4  [2021, 10, 28]  @ecommerceshares The cemetery of automotive st..."
      ]
     },
     "execution_count": 53,
     "metadata": {},
     "output_type": "execute_result"
    }
   ],
   "source": [
    "# function over the iterator. catches error when the reader rate exceeds server capacity.\n",
    "def limit_handled(cursor):\n",
    "    while True:\n",
    "        try:\n",
    "            yield next(cursor)\n",
    "        except (StopIteration, tweepy.TooManyRequests):\n",
    "            print(f\"error, data size: {len(text)}\")\n",
    "            df_new = pd.DataFrame()\n",
    "            df_new[\"Date\"] = date\n",
    "            df_new[\"Content\"] = text\n",
    "            filename = \"twitter_data_1.csv\"\n",
    "            df_new.to_csv(filename)\n",
    "\n",
    "            time.sleep(5 * 60)"
   ]
  },
  {
   "cell_type": "code",
   "execution_count": 46,
   "id": "soviet-skiing",
   "metadata": {},
   "outputs": [],
   "source": [
    "userID = \"elonmusk\"\n",
    "start_date = datetime.datetime(2019, 1, 1, 00, 00, 00)\n",
    "end_date = datetime.datetime(2021, 9, 30, 00, 00, 00)\n",
    "df = pd.DataFrame()\n",
    "date = []\n",
    "text = []\n",
    "\n",
    "for tweet in limit_handled(tweepy.Cursor(api.user_timeline, screen_name=userID,count=20000).items()):\n",
    "\n",
    "    date_obj = tweet.created_at\n",
    "    date.append([date_obj.year, date_obj.month, date_obj.day])\n",
    "\n",
    "    text.append(tweet.text)\n",
    "    # except tweepy.errors.TooManyRequests:\n",
    "    #     print(\"sleep\", \"f{len(date)}\")\n",
    "    #     time.sleep(15 * 60)\n",
    "\n",
    "df[\"Date\"] = date\n",
    "df[\"Content\"] = text\n",
    "\n",
    "print(df.shape)"
   ]
  },
  {
   "cell_type": "code",
   "execution_count": null,
   "id": "blessed-flight",
   "metadata": {},
   "outputs": [],
   "source": [
    "# store data\n",
    "filename = \"twitter_data_1.csv\"\n",
    "df.to_csv(filename)"
   ]
  }
 ],
 "metadata": {
  "kernelspec": {
   "display_name": "Python 3",
   "language": "python",
   "name": "python3"
  },
  "language_info": {
   "codemirror_mode": {
    "name": "ipython",
    "version": 3
   },
   "file_extension": ".py",
   "mimetype": "text/x-python",
   "name": "python",
   "nbconvert_exporter": "python",
   "pygments_lexer": "ipython3",
   "version": "3.9.2"
  }
 },
 "nbformat": 4,
 "nbformat_minor": 5
}
